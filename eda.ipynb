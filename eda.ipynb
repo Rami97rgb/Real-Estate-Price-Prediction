{
 "cells": [
  {
   "cell_type": "code",
   "execution_count": 4,
   "metadata": {},
   "outputs": [],
   "source": [
    "import pandas as pd\n",
    "import matplotlib.pyplot as plt\n",
    "import seaborn as sns"
   ]
  },
  {
   "cell_type": "code",
   "execution_count": 7,
   "metadata": {},
   "outputs": [],
   "source": [
    "df = pd.read_csv('zillow_clean.csv')"
   ]
  },
  {
   "cell_type": "code",
   "execution_count": 8,
   "metadata": {},
   "outputs": [
    {
     "data": {
      "text/html": [
       "<div>\n",
       "<style scoped>\n",
       "    .dataframe tbody tr th:only-of-type {\n",
       "        vertical-align: middle;\n",
       "    }\n",
       "\n",
       "    .dataframe tbody tr th {\n",
       "        vertical-align: top;\n",
       "    }\n",
       "\n",
       "    .dataframe thead th {\n",
       "        text-align: right;\n",
       "    }\n",
       "</style>\n",
       "<table border=\"1\" class=\"dataframe\">\n",
       "  <thead>\n",
       "    <tr style=\"text-align: right;\">\n",
       "      <th></th>\n",
       "      <th>price</th>\n",
       "      <th>bedrooms</th>\n",
       "      <th>bathrooms</th>\n",
       "      <th>floorsize</th>\n",
       "      <th>city</th>\n",
       "      <th>zipcode</th>\n",
       "    </tr>\n",
       "  </thead>\n",
       "  <tbody>\n",
       "    <tr>\n",
       "      <th>0</th>\n",
       "      <td>843900</td>\n",
       "      <td>2</td>\n",
       "      <td>3.0</td>\n",
       "      <td>1351</td>\n",
       "      <td>LosAngeles</td>\n",
       "      <td>90025</td>\n",
       "    </tr>\n",
       "    <tr>\n",
       "      <th>1</th>\n",
       "      <td>303900</td>\n",
       "      <td>2</td>\n",
       "      <td>1.0</td>\n",
       "      <td>861</td>\n",
       "      <td>SanDiego</td>\n",
       "      <td>92173</td>\n",
       "    </tr>\n",
       "    <tr>\n",
       "      <th>2</th>\n",
       "      <td>824900</td>\n",
       "      <td>2</td>\n",
       "      <td>2.0</td>\n",
       "      <td>1324</td>\n",
       "      <td>LosAngeles</td>\n",
       "      <td>90025</td>\n",
       "    </tr>\n",
       "    <tr>\n",
       "      <th>3</th>\n",
       "      <td>637900</td>\n",
       "      <td>3</td>\n",
       "      <td>2.0</td>\n",
       "      <td>1242</td>\n",
       "      <td>SolanaBeach</td>\n",
       "      <td>92075</td>\n",
       "    </tr>\n",
       "    <tr>\n",
       "      <th>4</th>\n",
       "      <td>319900</td>\n",
       "      <td>1</td>\n",
       "      <td>1.0</td>\n",
       "      <td>609</td>\n",
       "      <td>SanDiego</td>\n",
       "      <td>92104</td>\n",
       "    </tr>\n",
       "  </tbody>\n",
       "</table>\n",
       "</div>"
      ],
      "text/plain": [
       "    price  bedrooms  bathrooms  floorsize         city  zipcode\n",
       "0  843900         2        3.0       1351   LosAngeles    90025\n",
       "1  303900         2        1.0        861     SanDiego    92173\n",
       "2  824900         2        2.0       1324   LosAngeles    90025\n",
       "3  637900         3        2.0       1242  SolanaBeach    92075\n",
       "4  319900         1        1.0        609     SanDiego    92104"
      ]
     },
     "execution_count": 8,
     "metadata": {},
     "output_type": "execute_result"
    }
   ],
   "source": [
    "df.head()"
   ]
  },
  {
   "cell_type": "code",
   "execution_count": null,
   "metadata": {},
   "outputs": [],
   "source": []
  }
 ],
 "metadata": {
  "kernelspec": {
   "display_name": "Python 3",
   "language": "python",
   "name": "python3"
  },
  "language_info": {
   "codemirror_mode": {
    "name": "ipython",
    "version": 3
   },
   "file_extension": ".py",
   "mimetype": "text/x-python",
   "name": "python",
   "nbconvert_exporter": "python",
   "pygments_lexer": "ipython3",
   "version": "3.6.8"
  }
 },
 "nbformat": 4,
 "nbformat_minor": 4
}
